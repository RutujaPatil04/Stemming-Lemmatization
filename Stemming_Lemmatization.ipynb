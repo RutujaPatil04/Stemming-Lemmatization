{
 "cells": [
  {
   "cell_type": "code",
   "execution_count": 17,
   "id": "4bf90c4f-8e9a-4197-8f5a-29a821419459",
   "metadata": {},
   "outputs": [],
   "source": [
    "from nltk.stem import PorterStemmer\n",
    "from nltk.stem import SnowballStemmer\n",
    "# import the stemming library"
   ]
  },
  {
   "cell_type": "code",
   "execution_count": 18,
   "id": "c379d000-f08c-4a01-9b28-c24e8b403ae7",
   "metadata": {},
   "outputs": [],
   "source": [
    "porter_stemmer = PorterStemmer()"
   ]
  },
  {
   "cell_type": "code",
   "execution_count": 39,
   "id": "61f8058f-31c3-443b-9607-19bbd94dfa3b",
   "metadata": {},
   "outputs": [],
   "source": [
    "words = ['Happy','Jumping','tanzen','Helped']"
   ]
  },
  {
   "cell_type": "code",
   "execution_count": 40,
   "id": "093f4902-c0ea-42eb-a1f5-c650c81070dd",
   "metadata": {},
   "outputs": [],
   "source": [
    "stemmedWords = [porter_stemmer.stem(word) for word in words]"
   ]
  },
  {
   "cell_type": "code",
   "execution_count": 41,
   "id": "3a1bb17d-b8c4-4346-a6a2-fbe34aeda76a",
   "metadata": {},
   "outputs": [
    {
     "name": "stdout",
     "output_type": "stream",
     "text": [
      "['happi', 'jump', 'tanzen', 'help']\n"
     ]
    }
   ],
   "source": [
    "print(stemmedWords)"
   ]
  },
  {
   "cell_type": "code",
   "execution_count": 45,
   "id": "8097e625-5780-4dda-a35c-dac1339ff18b",
   "metadata": {},
   "outputs": [],
   "source": [
    "SnowBall_stemmer_german = SnowballStemmer(language='german') #  English, French, German, Spanish, Italian, Dutch, Portuguese, Russian, Swedish, Danish, Norwegian, Finnish, Romanian, Hungarian, Turkish, and Arabic\n"
   ]
  },
  {
   "cell_type": "code",
   "execution_count": 46,
   "id": "f6dd2819-c0a1-4c77-b18b-e9f39f75690c",
   "metadata": {},
   "outputs": [],
   "source": [
    "stemwords2 = [SnowBall_stemmer_german.stem(word) for word in words]"
   ]
  },
  {
   "cell_type": "code",
   "execution_count": 47,
   "id": "bc28ba8a-d5e8-456c-8778-370991b19014",
   "metadata": {},
   "outputs": [
    {
     "name": "stdout",
     "output_type": "stream",
     "text": [
      "['happy', 'jumping', 'tanz', 'helped']\n"
     ]
    }
   ],
   "source": [
    "print(stemwords2)"
   ]
  },
  {
   "cell_type": "code",
   "execution_count": null,
   "id": "5bde10ae-0984-4cac-9019-c888b25ce2c6",
   "metadata": {},
   "outputs": [],
   "source": []
  },
  {
   "cell_type": "code",
   "execution_count": null,
   "id": "f41f2235-ed1f-4516-8d68-2d0abe4d2717",
   "metadata": {},
   "outputs": [],
   "source": []
  }
 ],
 "metadata": {
  "kernelspec": {
   "display_name": "Python 3 (ipykernel)",
   "language": "python",
   "name": "python3"
  },
  "language_info": {
   "codemirror_mode": {
    "name": "ipython",
    "version": 3
   },
   "file_extension": ".py",
   "mimetype": "text/x-python",
   "name": "python",
   "nbconvert_exporter": "python",
   "pygments_lexer": "ipython3",
   "version": "3.10.0"
  }
 },
 "nbformat": 4,
 "nbformat_minor": 5
}
